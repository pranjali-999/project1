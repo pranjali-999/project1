{
 "cells": [
  {
   "cell_type": "code",
   "execution_count": null,
   "id": "f0f18775-8877-4fe5-bfcc-781591e22ff5",
   "metadata": {
    "tags": []
   },
   "outputs": [
    {
     "name": "stdout",
     "output_type": "stream",
     "text": [
      "welcome to IPL 2023 ticket booking system\n"
     ]
    }
   ],
   "source": [
    "total_seats = 180\n",
    "stand_seat = 150\n",
    "grand_terrace = 30\n",
    "seats_left = 0\n",
    "\n",
    "while True:\n",
    "    print(\"welcome to IPL 2023 ticket booking system\")\n",
    "    name = input(\"enter customer name:\")\n",
    "    ph_no = int(input(\"enter customer phone number:\"))\n",
    "    seat_type1 = \"stand\"\n",
    "    seat_type2 = \"grand terrace\"\n",
    "    total = 0\n",
    "\n",
    "    while True:\n",
    "        print(\"\"\" choose\n",
    "        1 for stand = 250\n",
    "        2 for grand terrace = 380 \"\"\")\n",
    "        choice = input(\"enter your choice\")\n",
    "        \n",
    "        if choice == \"1\":\n",
    "            amount = 250\n",
    "            quantity = int(input(\"enter number of seats to be booked\"))\n",
    "            if quantity <= stand_seat:\n",
    "                print(amount)\n",
    "            elif quantity > stand_seat:\n",
    "                print(\"Sorry, only\", stand_seat, \"seats are available in\", seat_type1, \"category.\")\n",
    "                continue\n",
    "                \n",
    "            total += quantity*amount\n",
    "            print(total)\n",
    "\n",
    "            stand_seat = stand_seat - quantity\n",
    "            print(stand_seat)\n",
    "            print(seat_type1)\n",
    "            total_seats = total_seats - quantity\n",
    "            print(total_seats)\n",
    "            \n",
    "        elif choice == \"2\":\n",
    "            amount = 380\n",
    "            quantity = int(input(\"enter number of seats to be booked\"))\n",
    "            \n",
    "            if quantity <= grand_terrace:\n",
    "                print(amount)\n",
    "            elif quantity > grand_terrace:\n",
    "                print(\"Sorry, only\", grand_terrace, \"seats are available in\", seat_type2, \"category.\")\n",
    "                continue\n",
    "                \n",
    "            total += quantity*amount\n",
    "            print(total)\n",
    "            grand_terrace = grand_terrace - quantity\n",
    "            print(grand_terrace)\n",
    "            print(seat_type2)\n",
    "            total_seats = total_seats - quantity\n",
    "            print(total_seats)\n",
    "            \n",
    "        repeat = input(\"do you want to book more tickets? (yes/no):\")\n",
    "        if repeat == \"no\" or repeat == \"No\":\n",
    "            break\n",
    "            \n",
    "        if total_seats <= 0:\n",
    "            print(\"Sorry, no more seats available\")\n",
    "            break\n",
    "            \n",
    "    print(\"-\"*30)\n",
    "    print(\"customer's name\", name)\n",
    "    print(\"customer's phone number\", ph_no )\n",
    "    print(\"total amount\", total)\n",
    "    print(\"-\"*30)\n",
    "    print(\"\"\"Booking confirmed\n",
    "          Thank you\n",
    "          have a nice day\"\"\")\n",
    "                \n",
    "    repeat_cus = input(\"next customer?\" )\n",
    "         \n",
    "    if repeat_cus == \"no\" or repeat_cus == \"No\":\n",
    "        break\n"
   ]
  },
  {
   "cell_type": "code",
   "execution_count": null,
   "id": "c261dace-24cf-431e-93a1-afb4758c4ed6",
   "metadata": {},
   "outputs": [],
   "source": []
  }
 ],
 "metadata": {
  "kernelspec": {
   "display_name": "Python 3 (ipykernel)",
   "language": "python",
   "name": "python3"
  },
  "language_info": {
   "codemirror_mode": {
    "name": "ipython",
    "version": 3
   },
   "file_extension": ".py",
   "mimetype": "text/x-python",
   "name": "python",
   "nbconvert_exporter": "python",
   "pygments_lexer": "ipython3",
   "version": "3.11.2"
  }
 },
 "nbformat": 4,
 "nbformat_minor": 5
}

{
 "cells": [
  {
   "cell_type": "code",
   "execution_count": null,
   "id": "0c09dc51-92fb-4a63-938d-23803bb99282",
   "metadata": {
    "tags": []
   },
   "outputs": [
    {
     "name": "stdout",
     "output_type": "stream",
     "text": [
      "welcome to IPL 2023 ticket booking system\n"
     ]
    },
    {
     "name": "stdin",
     "output_type": "stream",
     "text": [
      "enter customer name: hhjj\n",
      "enter customer phone number: 4444\n"
     ]
    },
    {
     "name": "stdout",
     "output_type": "stream",
     "text": [
      " choose\n",
      "        1 for stand = 250\n",
      "        \n",
      "        2 for grand terrace = 380 \n"
     ]
    },
    {
     "name": "stdin",
     "output_type": "stream",
     "text": [
      "enter your choice 1\n",
      "enter number of seats to be booked 2\n",
      "enter the amount 250\n"
     ]
    },
    {
     "name": "stdout",
     "output_type": "stream",
     "text": [
      "500\n",
      "148\n",
      "stand\n",
      "178\n"
     ]
    },
    {
     "name": "stdin",
     "output_type": "stream",
     "text": [
      "do you want to book more tickets? (yes/no): yes\n"
     ]
    },
    {
     "name": "stdout",
     "output_type": "stream",
     "text": [
      " choose\n",
      "        1 for stand = 250\n",
      "        \n",
      "        2 for grand terrace = 380 \n"
     ]
    },
    {
     "name": "stdin",
     "output_type": "stream",
     "text": [
      "enter your choice 2\n",
      "enter number of seats to be booked 2\n",
      "enter the amount 380\n"
     ]
    },
    {
     "name": "stdout",
     "output_type": "stream",
     "text": [
      "1260\n",
      "28\n",
      "grand terrece\n",
      "176\n"
     ]
    },
    {
     "name": "stdin",
     "output_type": "stream",
     "text": [
      "do you want to book more tickets? (yes/no): yes\n"
     ]
    },
    {
     "name": "stdout",
     "output_type": "stream",
     "text": [
      " choose\n",
      "        1 for stand = 250\n",
      "        \n",
      "        2 for grand terrace = 380 \n"
     ]
    },
    {
     "name": "stdin",
     "output_type": "stream",
     "text": [
      "enter your choice 4\n",
      "do you want to book more tickets? (yes/no): yes\n"
     ]
    },
    {
     "name": "stdout",
     "output_type": "stream",
     "text": [
      " choose\n",
      "        1 for stand = 250\n",
      "        \n",
      "        2 for grand terrace = 380 \n"
     ]
    },
    {
     "name": "stdin",
     "output_type": "stream",
     "text": [
      "enter your choice 1\n",
      "enter number of seats to be booked 5\n",
      "enter the amount 250\n"
     ]
    },
    {
     "name": "stdout",
     "output_type": "stream",
     "text": [
      "2510\n",
      "143\n",
      "stand\n",
      "171\n"
     ]
    },
    {
     "name": "stdin",
     "output_type": "stream",
     "text": [
      "do you want to book more tickets? (yes/no): no\n"
     ]
    },
    {
     "name": "stdout",
     "output_type": "stream",
     "text": [
      "------------------------------\n",
      "customer's name hhjj\n",
      "customer's phone number 4444\n",
      "total amount 2510\n",
      "------------------------------\n",
      "Booking confirmed\n",
      "          \n",
      "          Thank you\n",
      "          \n",
      "          have a nice day\n"
     ]
    }
   ],
   "source": [
    "total_seats= 180\n",
    "stand_seat= 150\n",
    "grand_terrece = 30\n",
    "seats_left=0\n",
    "\n",
    "while True:\n",
    "\n",
    "        \n",
    "    print(\"welcome to IPL 2023 ticket booking system\")\n",
    "    name= input(\"enter customer name:\")\n",
    "    ph_no= int(input(\"enter customer phone number:\"))\n",
    "    seat_type1= \"stand\"\n",
    "    seat_type2= \"grand terrece\"\n",
    "    total=0\n",
    "\n",
    "    while True:\n",
    "        print(\"\"\" choose\n",
    "        1 for stand = 250\n",
    "        \n",
    "        2 for grand terrace = 380 \"\"\")\n",
    "        \n",
    "        choice=input(\"enter your choice\")\n",
    "        \n",
    "        if choice==\"1\":\n",
    "            \n",
    "            quantity= int(input(\"enter number of seats to be booked\"))\n",
    "            \n",
    "            \n",
    "            \n",
    "            amount= int(input(\"enter the amount\"))\n",
    "            \n",
    "            total += quantity*amount\n",
    "            print(total)\n",
    "           \n",
    "            stand_seat= stand_seat- quantity\n",
    "            \n",
    "            print(stand_seat)\n",
    "            print(seat_type1)\n",
    "            total_seats = total_seats - quantity\n",
    "            \n",
    "            print(total_seats)\n",
    "            \n",
    "            \n",
    "           \n",
    "        if choice==\"2\":\n",
    "            quantity= int(input(\"enter number of seats to be booked\"))\n",
    "            \n",
    "            amount= int(input(\"enter the amount\"))\n",
    "             \n",
    "            total += quantity*amount\n",
    "                \n",
    "            print(total)\n",
    "            \n",
    "            grand_terrece= grand_terrece- quantity\n",
    "            \n",
    "            print(grand_terrece)\n",
    "            print(seat_type2)\n",
    "            \n",
    "            total_seats = total_seats - quantity\n",
    "            \n",
    "            print(total_seats)\n",
    "            \n",
    "        repeat= input(\"do you want to book more tickets? (yes/no):\")\n",
    "        if repeat == \"no\" or repeat == \"No\":\n",
    "            \n",
    "                      break\n",
    "            \n",
    "    \n",
    "            \n",
    "    print(\"-\"*30)\n",
    "    print(\"customer's name\", name)\n",
    "    print(\"customer's phone number\", ph_no )\n",
    "    print(\"total amount\", total)\n",
    "       \n",
    "    print(\"-\"*30)\n",
    "    print(\"\"\"Booking confirmed\n",
    "          \n",
    "          Thank you\n",
    "          \n",
    "          have a nice day\"\"\")\n",
    "                \n",
    "    repeat_cus= input(\"next customer?\" )\n",
    "         \n",
    "    if repeat_cus == \"no\" or repeat_cus == \"No\":\n",
    "                        \n",
    "           break\n",
    "            \n"
   ]
  },
  {
   "cell_type": "code",
   "execution_count": null,
   "id": "c261dace-24cf-431e-93a1-afb4758c4ed6",
   "metadata": {},
   "outputs": [],
   "source": []
  }
 ],
 "metadata": {
  "kernelspec": {
   "display_name": "Python 3 (ipykernel)",
   "language": "python",
   "name": "python3"
  },
  "language_info": {
   "codemirror_mode": {
    "name": "ipython",
    "version": 3
   },
   "file_extension": ".py",
   "mimetype": "text/x-python",
   "name": "python",
   "nbconvert_exporter": "python",
   "pygments_lexer": "ipython3",
   "version": "3.11.2"
  }
 },
 "nbformat": 4,
 "nbformat_minor": 5
}
